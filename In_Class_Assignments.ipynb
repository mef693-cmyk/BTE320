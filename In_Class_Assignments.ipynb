{
  "nbformat": 4,
  "nbformat_minor": 0,
  "metadata": {
    "colab": {
      "provenance": [],
      "authorship_tag": "ABX9TyObD4UpUc3VhTcqgBp+vnkd",
      "include_colab_link": true
    },
    "kernelspec": {
      "name": "python3",
      "display_name": "Python 3"
    },
    "language_info": {
      "name": "python"
    }
  },
  "cells": [
    {
      "cell_type": "markdown",
      "metadata": {
        "id": "view-in-github",
        "colab_type": "text"
      },
      "source": [
        "<a href=\"https://colab.research.google.com/github/mef693-cmyk/BTE320/blob/main/In_Class_Assignments.ipynb\" target=\"_parent\"><img src=\"https://colab.research.google.com/assets/colab-badge.svg\" alt=\"Open In Colab\"/></a>"
      ]
    },
    {
      "cell_type": "code",
      "execution_count": null,
      "metadata": {
        "colab": {
          "base_uri": "https://localhost:8080/"
        },
        "id": "5eYuUqDWaR6D",
        "outputId": "0472069e-7a4d-4c54-d46c-35fcf4136a61"
      },
      "outputs": [
        {
          "output_type": "stream",
          "name": "stdout",
          "text": [
            "Enter sales($): 12000\n",
            "Sales: $12000.0\n",
            " Enter tax rate (%): 30\n",
            "Cog: $4800.0\n",
            "Gross profit: $7200.0\n",
            "Taxes: $2160.0\n",
            "Net profit: $5040.0\n"
          ]
        }
      ],
      "source": [
        "# In Class Assignment 1 on September 2nd\n",
        "sales = float(input('Enter sales($): '))\n",
        "print(f\"Sales: ${sales}\")\n",
        "rate = float(input(\" Enter tax rate (%): \"))\n",
        "\n",
        "# Cost of Goods sold\n",
        "cog = 0.4\n",
        "cog_sold = sales * cog\n",
        "print(f\"Cog: ${cog_sold}\")\n",
        "\n",
        "# Gross profit\n",
        "gross_profit = sales - (cog * sales)\n",
        "print(f\"Gross profit: ${gross_profit}\")\n",
        "\n",
        "#Taxes\n",
        "taxes = (rate / 100) * gross_profit\n",
        "print(f\"Taxes: ${taxes}\")\n",
        "\n",
        "#Net income\n",
        "netProfit = gross_profit - taxes\n",
        "print(f\"Net profit: ${netProfit}\")\n",
        "\n"
      ]
    },
    {
      "cell_type": "code",
      "source": [
        "# In Class Assignment 2 on September 4th\n",
        "  # inputs: demand, reorder, and holdings\n",
        "demand = input( \"Enter demand (units/year): \")\n",
        "demand = int(demand)\n",
        "\n",
        "reorder = input(\"Enter reorder cost ($/unit): \")\n",
        "reorder = float(reorder)\n",
        "\n",
        "holding = input(\"Enter holding cost ($/unit/year): \")\n",
        "holding = float(holding)\n",
        "\n",
        "# Process: Calulate EOQ\n",
        "eoq = (2 * demand * reorder / holding) ** 0.5\n",
        "\n",
        "# Output: display eoq value\n",
        "print(f\"EOQ = {eoq} units\")"
      ],
      "metadata": {
        "colab": {
          "base_uri": "https://localhost:8080/"
        },
        "id": "ScnqRWt1m1Jx",
        "outputId": "43ddba8e-d246-4ef5-f454-632a2c44b29d"
      },
      "execution_count": 12,
      "outputs": [
        {
          "output_type": "stream",
          "name": "stdout",
          "text": [
            "Enter demand (units/year): 100\n",
            "Enter reorder cost ($/unit): 1.5\n",
            "Enter holding cost ($/unit/year): 3\n",
            "EOQ = 10.0 units\n"
          ]
        }
      ]
    }
  ]
}